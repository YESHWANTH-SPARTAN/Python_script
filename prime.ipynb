{
 "cells": [
  {
   "cell_type": "code",
   "execution_count": 18,
   "id": "51870728-23d5-422a-98ee-b50c42deba39",
   "metadata": {},
   "outputs": [
    {
     "name": "stdin",
     "output_type": "stream",
     "text": [
      "enter a number 98\n"
     ]
    },
    {
     "name": "stdout",
     "output_type": "stream",
     "text": [
      "98  is not a prime number\n"
     ]
    }
   ],
   "source": [
    "a=int(input(\"enter a number\"))\n",
    "def is_prime(n):\n",
    "    if n <= 1:\n",
    "         return false\n",
    "    for i in range (2,n):\n",
    "      if n % i == 0:\n",
    "          return False\n",
    "    return True\n",
    "if is_prime(a):\n",
    "    print(a,\" is a prime number\")\n",
    "else:\n",
    "    print(a,\" is not a prime number\")\n",
    "    "
   ]
  },
  {
   "cell_type": "code",
   "execution_count": null,
   "id": "bdc0f743-7c0f-4ffa-9c07-1254d0e04dc6",
   "metadata": {},
   "outputs": [],
   "source": []
  }
 ],
 "metadata": {
  "kernelspec": {
   "display_name": "Python 3 (ipykernel)",
   "language": "python",
   "name": "python3"
  },
  "language_info": {
   "codemirror_mode": {
    "name": "ipython",
    "version": 3
   },
   "file_extension": ".py",
   "mimetype": "text/x-python",
   "name": "python",
   "nbconvert_exporter": "python",
   "pygments_lexer": "ipython3",
   "version": "3.12.7"
  }
 },
 "nbformat": 4,
 "nbformat_minor": 5
}
